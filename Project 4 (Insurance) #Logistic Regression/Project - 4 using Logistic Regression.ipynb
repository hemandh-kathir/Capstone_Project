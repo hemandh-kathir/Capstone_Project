{
 "cells": [
  {
   "cell_type": "markdown",
   "source": "#### Problem Statement\nTo find whether a person will buy insurance or not based on his age",
   "metadata": {
    "cell_id": "83ad6468eef2491aba18ee40e9323274",
    "tags": [],
    "deepnote_cell_type": "markdown",
    "deepnote_cell_height": 88.375
   }
  },
  {
   "cell_type": "markdown",
   "source": "#### Dataset\nThe Dataset used here is Own dataset ",
   "metadata": {
    "cell_id": "ddf7cf37b28a455680eaf0cec2f6d0d8",
    "tags": [],
    "deepnote_cell_type": "markdown",
    "deepnote_cell_height": 124
   }
  },
  {
   "cell_type": "code",
   "metadata": {
    "tags": [],
    "cell_id": "6bde2068-6aad-46a8-80a1-440459c691df",
    "deepnote_to_be_reexecuted": false,
    "source_hash": "505f2945",
    "execution_start": 1657899645927,
    "execution_millis": 1892,
    "owner_user_id": "cc02b71c-7c5c-4143-b8f0-2cc53953d9ea",
    "deepnote_cell_type": "code",
    "deepnote_cell_height": 690
   },
   "source": "#Importing libraries and storing csv file to a variable\nimport pandas as pd\nimport matplotlib.pyplot as plt\nimport seaborn as sns\ndf = pd.read_csv(\"/work/insurance.csv\")\ndf",
   "execution_count": 2,
   "outputs": [
    {
     "output_type": "execute_result",
     "execution_count": 2,
     "data": {
      "application/vnd.deepnote.dataframe.v3+json": {
       "column_count": 2,
       "row_count": 13,
       "columns": [
        {
         "name": "age",
         "dtype": "int64",
         "stats": {
          "unique_count": 13,
          "nan_count": 0,
          "min": "20",
          "max": "80",
          "histogram": [
           {
            "bin_start": 20,
            "bin_end": 26,
            "count": 2
           },
           {
            "bin_start": 26,
            "bin_end": 32,
            "count": 2
           },
           {
            "bin_start": 32,
            "bin_end": 38,
            "count": 2
           },
           {
            "bin_start": 38,
            "bin_end": 44,
            "count": 0
           },
           {
            "bin_start": 44,
            "bin_end": 50,
            "count": 2
           },
           {
            "bin_start": 50,
            "bin_end": 56,
            "count": 1
           },
           {
            "bin_start": 56,
            "bin_end": 62,
            "count": 2
           },
           {
            "bin_start": 62,
            "bin_end": 68,
            "count": 1
           },
           {
            "bin_start": 68,
            "bin_end": 74,
            "count": 0
           },
           {
            "bin_start": 74,
            "bin_end": 80,
            "count": 1
           }
          ]
         }
        },
        {
         "name": "bought_insurance",
         "dtype": "int64",
         "stats": {
          "unique_count": 2,
          "nan_count": 0,
          "min": "0",
          "max": "1",
          "histogram": [
           {
            "bin_start": 0,
            "bin_end": 0.1,
            "count": 6
           },
           {
            "bin_start": 0.1,
            "bin_end": 0.2,
            "count": 0
           },
           {
            "bin_start": 0.2,
            "bin_end": 0.30000000000000004,
            "count": 0
           },
           {
            "bin_start": 0.30000000000000004,
            "bin_end": 0.4,
            "count": 0
           },
           {
            "bin_start": 0.4,
            "bin_end": 0.5,
            "count": 0
           },
           {
            "bin_start": 0.5,
            "bin_end": 0.6000000000000001,
            "count": 0
           },
           {
            "bin_start": 0.6000000000000001,
            "bin_end": 0.7000000000000001,
            "count": 0
           },
           {
            "bin_start": 0.7000000000000001,
            "bin_end": 0.8,
            "count": 0
           },
           {
            "bin_start": 0.8,
            "bin_end": 0.9,
            "count": 0
           },
           {
            "bin_start": 0.9,
            "bin_end": 1,
            "count": 7
           }
          ]
         }
        },
        {
         "name": "_deepnote_index_column",
         "dtype": "int64"
        }
       ],
       "rows": [
        {
         "age": 20,
         "bought_insurance": 0,
         "_deepnote_index_column": 0
        },
        {
         "age": 27,
         "bought_insurance": 0,
         "_deepnote_index_column": 1
        },
        {
         "age": 28,
         "bought_insurance": 0,
         "_deepnote_index_column": 2
        },
        {
         "age": 24,
         "bought_insurance": 0,
         "_deepnote_index_column": 3
        },
        {
         "age": 34,
         "bought_insurance": 1,
         "_deepnote_index_column": 4
        },
        {
         "age": 36,
         "bought_insurance": 0,
         "_deepnote_index_column": 5
        },
        {
         "age": 44,
         "bought_insurance": 0,
         "_deepnote_index_column": 6
        },
        {
         "age": 45,
         "bought_insurance": 1,
         "_deepnote_index_column": 7
        },
        {
         "age": 80,
         "bought_insurance": 1,
         "_deepnote_index_column": 8
        },
        {
         "age": 60,
         "bought_insurance": 1,
         "_deepnote_index_column": 9
        }
       ]
      },
      "text/plain": "    age  bought_insurance\n0    20                 0\n1    27                 0\n2    28                 0\n3    24                 0\n4    34                 1\n5    36                 0\n6    44                 0\n7    45                 1\n8    80                 1\n9    60                 1\n10   55                 1\n11   58                 1\n12   62                 1",
      "text/html": "<div>\n<style scoped>\n    .dataframe tbody tr th:only-of-type {\n        vertical-align: middle;\n    }\n\n    .dataframe tbody tr th {\n        vertical-align: top;\n    }\n\n    .dataframe thead th {\n        text-align: right;\n    }\n</style>\n<table border=\"1\" class=\"dataframe\">\n  <thead>\n    <tr style=\"text-align: right;\">\n      <th></th>\n      <th>age</th>\n      <th>bought_insurance</th>\n    </tr>\n  </thead>\n  <tbody>\n    <tr>\n      <th>0</th>\n      <td>20</td>\n      <td>0</td>\n    </tr>\n    <tr>\n      <th>1</th>\n      <td>27</td>\n      <td>0</td>\n    </tr>\n    <tr>\n      <th>2</th>\n      <td>28</td>\n      <td>0</td>\n    </tr>\n    <tr>\n      <th>3</th>\n      <td>24</td>\n      <td>0</td>\n    </tr>\n    <tr>\n      <th>4</th>\n      <td>34</td>\n      <td>1</td>\n    </tr>\n    <tr>\n      <th>5</th>\n      <td>36</td>\n      <td>0</td>\n    </tr>\n    <tr>\n      <th>6</th>\n      <td>44</td>\n      <td>0</td>\n    </tr>\n    <tr>\n      <th>7</th>\n      <td>45</td>\n      <td>1</td>\n    </tr>\n    <tr>\n      <th>8</th>\n      <td>80</td>\n      <td>1</td>\n    </tr>\n    <tr>\n      <th>9</th>\n      <td>60</td>\n      <td>1</td>\n    </tr>\n    <tr>\n      <th>10</th>\n      <td>55</td>\n      <td>1</td>\n    </tr>\n    <tr>\n      <th>11</th>\n      <td>58</td>\n      <td>1</td>\n    </tr>\n    <tr>\n      <th>12</th>\n      <td>62</td>\n      <td>1</td>\n    </tr>\n  </tbody>\n</table>\n</div>"
     },
     "metadata": {}
    }
   ]
  },
  {
   "cell_type": "code",
   "metadata": {
    "cell_id": "4ec822dc025a467f80dcde9a0dc149c0",
    "tags": [],
    "deepnote_to_be_reexecuted": false,
    "source_hash": "c73daedf",
    "execution_start": 1657899651980,
    "execution_millis": 200,
    "deepnote_cell_type": "code",
    "deepnote_cell_height": 453.171875,
    "deepnote_output_heights": [
     21.1875,
     250
    ]
   },
   "source": "#Creating x and y for plotting graph\nx = df['age']\ny = df['bought_insurance']\nplt.scatter(x,y)",
   "execution_count": 3,
   "outputs": [
    {
     "output_type": "execute_result",
     "execution_count": 3,
     "data": {
      "text/plain": "<matplotlib.collections.PathCollection at 0x7f76c1892ac0>"
     },
     "metadata": {}
    },
    {
     "data": {
      "text/plain": "<Figure size 432x288 with 1 Axes>",
      "image/png": "[encoded data removed]"
     },
     "metadata": {
      "needs_background": "light",
      "image/png": {
       "width": 372,
       "height": 248
      }
     },
     "output_type": "display_data"
    }
   ]
  },
  {
   "cell_type": "code",
   "metadata": {
    "cell_id": "305e8f1edf41481682942d36788b5ece",
    "tags": [],
    "deepnote_to_be_reexecuted": false,
    "source_hash": "cdc8a1db",
    "execution_start": 1657899652183,
    "execution_millis": 425,
    "deepnote_cell_type": "code",
    "deepnote_cell_height": 247.34375,
    "deepnote_output_heights": [
     60.359375,
     250
    ]
   },
   "source": "#Importing sklearn library to apply logistic regression\nfrom sklearn import linear_model\nreg = linear_model.LogisticRegression()\nx = df.drop('bought_insurance',axis = 1)\ny = df['bought_insurance']\nreg.fit(x,y)",
   "execution_count": 4,
   "outputs": [
    {
     "output_type": "execute_result",
     "execution_count": 4,
     "data": {
      "text/plain": "LogisticRegression()",
      "text/html": "<style>#sk-container-id-1 {color: black;background-color: white;}#sk-container-id-1 pre{padding: 0;}#sk-container-id-1 div.sk-toggleable {background-color: white;}#sk-container-id-1 label.sk-toggleable__label {cursor: pointer;display: block;width: 100%;margin-bottom: 0;padding: 0.3em;box-sizing: border-box;text-align: center;}#sk-container-id-1 label.sk-toggleable__label-arrow:before {content: \"▸\";float: left;margin-right: 0.25em;color: #696969;}#sk-container-id-1 label.sk-toggleable__label-arrow:hover:before {color: black;}#sk-container-id-1 div.sk-estimator:hover label.sk-toggleable__label-arrow:before {color: black;}#sk-container-id-1 div.sk-toggleable__content {max-height: 0;max-width: 0;overflow: hidden;text-align: left;background-color: #f0f8ff;}#sk-container-id-1 div.sk-toggleable__content pre {margin: 0.2em;color: black;border-radius: 0.25em;background-color: #f0f8ff;}#sk-container-id-1 input.sk-toggleable__control:checked~div.sk-toggleable__content {max-height: 200px;max-width: 100%;overflow: auto;}#sk-container-id-1 input.sk-toggleable__control:checked~label.sk-toggleable__label-arrow:before {content: \"▾\";}#sk-container-id-1 div.sk-estimator input.sk-toggleable__control:checked~label.sk-toggleable__label {background-color: #d4ebff;}#sk-container-id-1 div.sk-label input.sk-toggleable__control:checked~label.sk-toggleable__label {background-color: #d4ebff;}#sk-container-id-1 input.sk-hidden--visually {border: 0;clip: rect(1px 1px 1px 1px);clip: rect(1px, 1px, 1px, 1px);height: 1px;margin: -1px;overflow: hidden;padding: 0;position: absolute;width: 1px;}#sk-container-id-1 div.sk-estimator {font-family: monospace;background-color: #f0f8ff;border: 1px dotted black;border-radius: 0.25em;box-sizing: border-box;margin-bottom: 0.5em;}#sk-container-id-1 div.sk-estimator:hover {background-color: #d4ebff;}#sk-container-id-1 div.sk-parallel-item::after {content: \"\";width: 100%;border-bottom: 1px solid gray;flex-grow: 1;}#sk-container-id-1 div.sk-label:hover label.sk-toggleable__label {background-color: #d4ebff;}#sk-container-id-1 div.sk-serial::before {content: \"\";position: absolute;border-left: 1px solid gray;box-sizing: border-box;top: 0;bottom: 0;left: 50%;z-index: 0;}#sk-container-id-1 div.sk-serial {display: flex;flex-direction: column;align-items: center;background-color: white;padding-right: 0.2em;padding-left: 0.2em;position: relative;}#sk-container-id-1 div.sk-item {position: relative;z-index: 1;}#sk-container-id-1 div.sk-parallel {display: flex;align-items: stretch;justify-content: center;background-color: white;position: relative;}#sk-container-id-1 div.sk-item::before, #sk-container-id-1 div.sk-parallel-item::before {content: \"\";position: absolute;border-left: 1px solid gray;box-sizing: border-box;top: 0;bottom: 0;left: 50%;z-index: -1;}#sk-container-id-1 div.sk-parallel-item {display: flex;flex-direction: column;z-index: 1;position: relative;background-color: white;}#sk-container-id-1 div.sk-parallel-item:first-child::after {align-self: flex-end;width: 50%;}#sk-container-id-1 div.sk-parallel-item:last-child::after {align-self: flex-start;width: 50%;}#sk-container-id-1 div.sk-parallel-item:only-child::after {width: 0;}#sk-container-id-1 div.sk-dashed-wrapped {border: 1px dashed gray;margin: 0 0.4em 0.5em 0.4em;box-sizing: border-box;padding-bottom: 0.4em;background-color: white;}#sk-container-id-1 div.sk-label label {font-family: monospace;font-weight: bold;display: inline-block;line-height: 1.2em;}#sk-container-id-1 div.sk-label-container {text-align: center;}#sk-container-id-1 div.sk-container {/* jupyter's `normalize.less` sets `[hidden] { display: none; }` but bootstrap.min.css set `[hidden] { display: none !important; }` so we also need the `!important` here to be able to override the default hidden behavior on the sphinx rendered scikit-learn.org. See: https://github.com/scikit-learn/scikit-learn/issues/21755 */display: inline-block !important;position: relative;}#sk-container-id-1 div.sk-text-repr-fallback {display: none;}</style><div id=\"sk-container-id-1\" class=\"sk-top-container\"><div class=\"sk-text-repr-fallback\"><pre>LogisticRegression()</pre><b>In a Jupyter environment, please rerun this cell to show the HTML representation or trust the notebook. <br />On GitHub, the HTML representation is unable to render, please try loading this page with nbviewer.org.</b></div><div class=\"sk-container\" hidden><div class=\"sk-item\"><div class=\"sk-estimator sk-toggleable\"><input class=\"sk-toggleable__control sk-hidden--visually\" id=\"sk-estimator-id-1\" type=\"checkbox\" checked><label for=\"sk-estimator-id-1\" class=\"sk-toggleable__label sk-toggleable__label-arrow\">LogisticRegression</label><div class=\"sk-toggleable__content\"><pre>LogisticRegression()</pre></div></div></div></div></div>"
     },
     "metadata": {}
    }
   ]
  },
  {
   "cell_type": "code",
   "metadata": {
    "cell_id": "753401a1dffa46b5b343a8bff07238b2",
    "tags": [],
    "deepnote_to_be_reexecuted": false,
    "source_hash": "7bdde17a",
    "execution_start": 1657899652613,
    "execution_millis": 6,
    "deepnote_cell_type": "code",
    "deepnote_cell_height": 172.171875,
    "deepnote_output_heights": [
     21.1875,
     21.1875
    ]
   },
   "source": "#Prediction\nimport warnings\nwarnings.filterwarnings(\"ignore\")\nreg.predict([[48]])",
   "execution_count": 5,
   "outputs": [
    {
     "output_type": "execute_result",
     "execution_count": 5,
     "data": {
      "text/plain": "array([1])"
     },
     "metadata": {}
    }
   ]
  },
  {
   "cell_type": "code",
   "metadata": {
    "cell_id": "2f29d96d15a441058e86a5dd9e84218e",
    "tags": [],
    "deepnote_to_be_reexecuted": false,
    "source_hash": "323b2148",
    "execution_start": 1657899736890,
    "execution_millis": 155,
    "deepnote_cell_type": "code",
    "deepnote_cell_height": 431.171875,
    "deepnote_output_heights": [
     21.1875,
     264
    ]
   },
   "source": "#Graph\nsns.regplot(x=x, y=y, data=df, logistic=True, ci=None)",
   "execution_count": 13,
   "outputs": [
    {
     "output_type": "execute_result",
     "execution_count": 13,
     "data": {
      "text/plain": "<AxesSubplot:xlabel='age', ylabel='bought_insurance'>"
     },
     "metadata": {}
    },
    {
     "data": {
      "text/plain": "<Figure size 432x288 with 1 Axes>",
      "image/png": "[encoded data removed]"
     },
     "metadata": {
      "needs_background": "light",
      "image/png": {
       "width": 386,
       "height": 262
      }
     },
     "output_type": "display_data"
    }
   ]
  },
  {
   "cell_type": "code",
   "metadata": {
    "cell_id": "6372eb8967f04ecd90e5e36d1e377210",
    "tags": [],
    "deepnote_to_be_reexecuted": true,
    "source_hash": "8892345",
    "execution_start": 1657896850141,
    "execution_millis": 6,
    "deepnote_cell_type": "code",
    "deepnote_cell_height": 136.171875,
    "deepnote_output_heights": [
     21.1875
    ]
   },
   "source": "#Accuracy\nreg.score(x,y)",
   "execution_count": null,
   "outputs": [
    {
     "output_type": "execute_result",
     "execution_count": 38,
     "data": {
      "text/plain": "0.8461538461538461"
     },
     "metadata": {}
    }
   ]
  },
  {
   "cell_type": "code",
   "metadata": {
    "cell_id": "196c9e5ebc1b4bb3965adc7547784ca8",
    "tags": [],
    "deepnote_to_be_reexecuted": false,
    "source_hash": "327e5c03",
    "execution_start": 1657899653162,
    "execution_millis": 12,
    "deepnote_cell_type": "code",
    "deepnote_cell_height": 136.171875,
    "deepnote_output_heights": [
     21.1875
    ]
   },
   "source": "#Intercept\nreg.intercept_",
   "execution_count": 7,
   "outputs": [
    {
     "output_type": "execute_result",
     "execution_count": 7,
     "data": {
      "text/plain": "array([-7.92110533])"
     },
     "metadata": {}
    }
   ]
  },
  {
   "cell_type": "code",
   "metadata": {
    "cell_id": "b34fa2b25efc4a5facd58b31d6e12685",
    "tags": [],
    "deepnote_to_be_reexecuted": false,
    "source_hash": "888b0dcf",
    "execution_start": 1657899654691,
    "execution_millis": 3,
    "deepnote_cell_type": "code",
    "deepnote_cell_height": 136.171875,
    "deepnote_output_heights": [
     21.1875
    ]
   },
   "source": "#coefficient\nreg.coef_",
   "execution_count": 8,
   "outputs": [
    {
     "output_type": "execute_result",
     "execution_count": 8,
     "data": {
      "text/plain": "array([[0.19643502]])"
     },
     "metadata": {}
    }
   ]
  },
  {
   "cell_type": "code",
   "source": "!pip install statsmodels",
   "metadata": {
    "cell_id": "0c7e867dc0ff4179b65b06b2888a9358",
    "tags": [],
    "deepnote_to_be_reexecuted": false,
    "source_hash": "471f39dc",
    "execution_start": 1657899666060,
    "execution_millis": 7254,
    "deepnote_cell_type": "code",
    "deepnote_cell_height": 486.9375
   },
   "outputs": [
    {
     "name": "stdout",
     "text": "Collecting statsmodels\n  Downloading statsmodels-0.13.2-cp39-cp39-manylinux_2_17_x86_64.manylinux2014_x86_64.whl (9.9 MB)\n\u001b[2K     \u001b[90m━━━━━━━━━━━━━━━━━━━━━━━━━━━━━━━━━━━━━━━━\u001b[0m \u001b[32m9.9/9.9 MB\u001b[0m \u001b[31m88.9 MB/s\u001b[0m eta \u001b[36m0:00:00\u001b[0m\n\u001b[?25hRequirement already satisfied: numpy>=1.17 in /shared-libs/python3.9/py/lib/python3.9/site-packages (from statsmodels) (1.22.4)\nRequirement already satisfied: pandas>=0.25 in /shared-libs/python3.9/py/lib/python3.9/site-packages (from statsmodels) (1.2.5)\nRequirement already satisfied: packaging>=21.3 in /shared-libs/python3.9/py/lib/python3.9/site-packages (from statsmodels) (21.3)\nRequirement already satisfied: scipy>=1.3 in /shared-libs/python3.9/py/lib/python3.9/site-packages (from statsmodels) (1.8.1)\nCollecting patsy>=0.5.2\n  Downloading patsy-0.5.2-py2.py3-none-any.whl (233 kB)\n\u001b[2K     \u001b[90m━━━━━━━━━━━━━━━━━━━━━━━━━━━━━━━━━━━━━━\u001b[0m \u001b[32m233.7/233.7 KB\u001b[0m \u001b[31m45.4 MB/s\u001b[0m eta \u001b[36m0:00:00\u001b[0m\n\u001b[?25hRequirement already satisfied: pyparsing!=3.0.5,>=2.0.2 in /shared-libs/python3.9/py/lib/python3.9/site-packages (from packaging>=21.3->statsmodels) (3.0.9)\nRequirement already satisfied: pytz>=2017.3 in /shared-libs/python3.9/py/lib/python3.9/site-packages (from pandas>=0.25->statsmodels) (2022.1)\nRequirement already satisfied: python-dateutil>=2.7.3 in /shared-libs/python3.9/py-core/lib/python3.9/site-packages (from pandas>=0.25->statsmodels) (2.8.2)\nRequirement already satisfied: six in /shared-libs/python3.9/py-core/lib/python3.9/site-packages (from patsy>=0.5.2->statsmodels) (1.16.0)\nInstalling collected packages: patsy, statsmodels\nSuccessfully installed patsy-0.5.2 statsmodels-0.13.2\n\u001b[33mWARNING: You are using pip version 22.0.4; however, version 22.1.2 is available.\nYou should consider upgrading via the '/root/venv/bin/python -m pip install --upgrade pip' command.\u001b[0m\u001b[33m\n\u001b[0m",
     "output_type": "stream"
    }
   ],
   "execution_count": 11
  },
  {
   "cell_type": "code",
   "metadata": {
    "cell_id": "2d268b4b6e8f435180854051996316ba",
    "tags": [],
    "deepnote_to_be_reexecuted": false,
    "source_hash": "21f163e3",
    "execution_start": 1657899676754,
    "execution_millis": 203,
    "deepnote_cell_type": "code",
    "deepnote_cell_height": 485.171875,
    "deepnote_output_heights": [
     21.1875,
     264
    ]
   },
   "source": "#Another method to plot graph (With red line)\nx = df['age']\ny = df['bought_insurance']\nsns.regplot(x=x, y=y, data=df, logistic=True, ci=None)\nplt.axhline(.5, color=\"red\", label=\"cutoff\")",
   "execution_count": 12,
   "outputs": [
    {
     "output_type": "execute_result",
     "execution_count": 12,
     "data": {
      "text/plain": "<matplotlib.lines.Line2D at 0x7f76be8dd250>"
     },
     "metadata": {}
    },
    {
     "data": {
      "text/plain": "<Figure size 432x288 with 1 Axes>",
      "image/png": "[encoded data removed]"
     },
     "metadata": {
      "needs_background": "light",
      "image/png": {
       "width": 386,
       "height": 262
      }
     },
     "output_type": "display_data"
    }
   ]
  },
  {
   "cell_type": "code",
   "source": "#Downloading the model\n#Downloading the model\nimport pickle\nwith open(\"insurancemodel\",\"wb\") as f:\n    pickle.dump(reg,f)",
   "metadata": {
    "cell_id": "1630eb32422e45b3a076b6c8b0e6d89e",
    "tags": [],
    "deepnote_to_be_reexecuted": false,
    "source_hash": "9f4c736f",
    "execution_start": 1657899655572,
    "execution_millis": 5,
    "deepnote_cell_type": "code",
    "deepnote_cell_height": 153
   },
   "outputs": [],
   "execution_count": 10
  },
  {
   "cell_type": "code",
   "source": "#0 - didn't buy insurance\n#1 - bought insurance\nage = int(input(\"Enter your age: \"))\npred = reg.predict([[age]])\nprint(pred)",
   "metadata": {
    "cell_id": "ea80a8224a1a43589647c66c7e4ba4fb",
    "tags": [],
    "deepnote_to_be_reexecuted": false,
    "source_hash": "faf6cbe9",
    "execution_start": 1657899853161,
    "execution_millis": 2734,
    "deepnote_cell_type": "code",
    "deepnote_cell_height": 183.1875
   },
   "outputs": [
    {
     "name": "stdout",
     "text": "[0]\n",
     "output_type": "stream"
    }
   ],
   "execution_count": 16
  },
  {
   "cell_type": "markdown",
   "source": "<a style='text-decoration:none;line-height:16px;display:flex;color:#5B5B62;padding:10px;justify-content:end;' href='https://deepnote.com?utm_source=created-in-deepnote-cell&projectId=7b8d9943-677a-4f6c-bc23-db8736c52eff' target=\"_blank\">\n<img alt='Created in deepnote.com' style='display:inline;max-height:16px;margin:0px;margin-right:7.5px;' src='data:image/svg+xml;base64,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' > </img>\nCreated in <span style='font-weight:600;margin-left:4px;'>Deepnote</span></a>",
   "metadata": {
    "tags": [],
    "created_in_deepnote_cell": true,
    "deepnote_cell_type": "markdown"
   }
  }
 ],
 "nbformat": 4,
 "nbformat_minor": 2,
 "metadata": {
  "orig_nbformat": 2,
  "deepnote": {},
  "deepnote_notebook_id": "2ead36b5-57ea-47f5-bfa9-35192a5346b3",
  "deepnote_execution_queue": []
 }
}